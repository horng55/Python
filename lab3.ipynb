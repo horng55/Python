{
 "cells": [
  {
   "cell_type": "markdown",
   "metadata": {},
   "source": [
    "## Name: Nam kimhorng\n",
    "## Class: ITE M1 \n",
    "\n"
   ]
  },
  {
   "cell_type": "code",
   "execution_count": null,
   "metadata": {},
   "outputs": [],
   "source": []
  },
  {
   "cell_type": "code",
   "execution_count": 28,
   "metadata": {},
   "outputs": [
    {
     "name": "stdout",
     "output_type": "stream",
     "text": [
      "Requirement already satisfied: pandas in c:\\users\\admin\\desktop\\c&p\\ps\\.conda\\lib\\site-packages (2.2.3)Note: you may need to restart the kernel to use updated packages.\n",
      "\n",
      "Requirement already satisfied: numpy>=1.23.2 in c:\\users\\admin\\desktop\\c&p\\ps\\.conda\\lib\\site-packages (from pandas) (2.2.0)\n",
      "Requirement already satisfied: python-dateutil>=2.8.2 in c:\\users\\admin\\desktop\\c&p\\ps\\.conda\\lib\\site-packages (from pandas) (2.9.0.post0)\n",
      "Requirement already satisfied: pytz>=2020.1 in c:\\users\\admin\\desktop\\c&p\\ps\\.conda\\lib\\site-packages (from pandas) (2024.2)\n",
      "Requirement already satisfied: tzdata>=2022.7 in c:\\users\\admin\\desktop\\c&p\\ps\\.conda\\lib\\site-packages (from pandas) (2024.2)\n",
      "Requirement already satisfied: six>=1.5 in c:\\users\\admin\\desktop\\c&p\\ps\\.conda\\lib\\site-packages (from python-dateutil>=2.8.2->pandas) (1.17.0)\n"
     ]
    }
   ],
   "source": [
    "pip install pandas"
   ]
  },
  {
   "cell_type": "code",
   "execution_count": 29,
   "metadata": {},
   "outputs": [
    {
     "name": "stdout",
     "output_type": "stream",
     "text": [
      "Requirement already satisfied: scipy in c:\\users\\admin\\desktop\\c&p\\ps\\.conda\\lib\\site-packages (1.14.1)\n",
      "Requirement already satisfied: numpy<2.3,>=1.23.5 in c:\\users\\admin\\desktop\\c&p\\ps\\.conda\\lib\\site-packages (from scipy) (2.2.0)\n",
      "Note: you may need to restart the kernel to use updated packages.\n"
     ]
    }
   ],
   "source": [
    "pip install scipy"
   ]
  },
  {
   "cell_type": "code",
   "execution_count": 30,
   "metadata": {},
   "outputs": [
    {
     "name": "stdout",
     "output_type": "stream",
     "text": [
      "Requirement already satisfied: matplotlib in c:\\users\\admin\\desktop\\c&p\\ps\\.conda\\lib\\site-packages (3.10.0)\n",
      "Requirement already satisfied: contourpy>=1.0.1 in c:\\users\\admin\\desktop\\c&p\\ps\\.conda\\lib\\site-packages (from matplotlib) (1.3.1)\n",
      "Requirement already satisfied: cycler>=0.10 in c:\\users\\admin\\desktop\\c&p\\ps\\.conda\\lib\\site-packages (from matplotlib) (0.12.1)\n",
      "Requirement already satisfied: fonttools>=4.22.0 in c:\\users\\admin\\desktop\\c&p\\ps\\.conda\\lib\\site-packages (from matplotlib) (4.55.3)\n",
      "Requirement already satisfied: kiwisolver>=1.3.1 in c:\\users\\admin\\desktop\\c&p\\ps\\.conda\\lib\\site-packages (from matplotlib) (1.4.7)\n",
      "Requirement already satisfied: numpy>=1.23 in c:\\users\\admin\\desktop\\c&p\\ps\\.conda\\lib\\site-packages (from matplotlib) (2.2.0)\n",
      "Requirement already satisfied: packaging>=20.0 in c:\\users\\admin\\desktop\\c&p\\ps\\.conda\\lib\\site-packages (from matplotlib) (24.2)\n",
      "Requirement already satisfied: pillow>=8 in c:\\users\\admin\\desktop\\c&p\\ps\\.conda\\lib\\site-packages (from matplotlib) (11.0.0)\n",
      "Requirement already satisfied: pyparsing>=2.3.1 in c:\\users\\admin\\desktop\\c&p\\ps\\.conda\\lib\\site-packages (from matplotlib) (3.2.0)\n",
      "Requirement already satisfied: python-dateutil>=2.7 in c:\\users\\admin\\desktop\\c&p\\ps\\.conda\\lib\\site-packages (from matplotlib) (2.9.0.post0)\n",
      "Requirement already satisfied: six>=1.5 in c:\\users\\admin\\desktop\\c&p\\ps\\.conda\\lib\\site-packages (from python-dateutil>=2.7->matplotlib) (1.17.0)\n",
      "Note: you may need to restart the kernel to use updated packages.\n"
     ]
    }
   ],
   "source": [
    "pip install matplotlib "
   ]
  },
  {
   "cell_type": "code",
   "execution_count": 31,
   "metadata": {},
   "outputs": [],
   "source": [
    "import pandas as pd \n",
    "import matplotlib.pyplot as plt\n",
    "from scipy.stats import zscore "
   ]
  },
  {
   "cell_type": "code",
   "execution_count": 32,
   "metadata": {},
   "outputs": [],
   "source": [
    "data = {\n",
    "    'Athlete': ['Alice', 'Bob', 'Charlie', 'David', 'Eve', 'Frank', 'Grace', 'Helen', 'Ian', 'Jane'],\n",
    "    'Height (cm)': [165, 180, 175, 190, 160, 185, 170, 155, 195, 168],\n",
    "    'Weight (kg)': [55, 75, 70, 85, 50, 90, 65, 48, 95, 58],\n",
    "    'Age (years)': [25, 30, 27, 35, 22, 40, 28, 24, 38, 26],\n",
    "    'Shoe Size (EU)': [37, 42, 40, 45, 36, 44, 39, 35, 46, 38]\n",
    "}"
   ]
  },
  {
   "cell_type": "code",
   "execution_count": 33,
   "metadata": {},
   "outputs": [],
   "source": [
    "df = pd.DataFrame(data)"
   ]
  },
  {
   "cell_type": "code",
   "execution_count": 34,
   "metadata": {},
   "outputs": [
    {
     "name": "stdout",
     "output_type": "stream",
     "text": [
      "Dataset:\n",
      "   Athlete  Height (cm)  Weight (kg)  Age (years)  Shoe Size (EU)\n",
      "0    Alice          165           55           25              37\n",
      "1      Bob          180           75           30              42\n",
      "2  Charlie          175           70           27              40\n",
      "3    David          190           85           35              45\n",
      "4      Eve          160           50           22              36\n",
      "5    Frank          185           90           40              44\n",
      "6    Grace          170           65           28              39\n",
      "7    Helen          155           48           24              35\n",
      "8      Ian          195           95           38              46\n",
      "9     Jane          168           58           26              38\n"
     ]
    }
   ],
   "source": [
    "print(\"Dataset:\")\n",
    "print(df)"
   ]
  },
  {
   "cell_type": "code",
   "execution_count": 35,
   "metadata": {},
   "outputs": [
    {
     "name": "stdout",
     "output_type": "stream",
     "text": [
      "\n",
      "Descriptive Statistics:\n",
      "       Height (cm)  Weight (kg)  Age (years)  Shoe Size (EU)\n",
      "count    10.000000    10.000000    10.000000        10.00000\n",
      "mean    174.300000    69.100000    29.500000        40.20000\n",
      "std      13.098346    16.815667     6.150881         3.88158\n",
      "min     155.000000    48.000000    22.000000        35.00000\n",
      "25%     165.750000    55.750000    25.250000        37.25000\n",
      "50%     172.500000    67.500000    27.500000        39.50000\n",
      "75%     183.750000    82.500000    33.750000        43.50000\n",
      "max     195.000000    95.000000    40.000000        46.00000\n"
     ]
    }
   ],
   "source": [
    "print(\"\\nDescriptive Statistics:\")\n",
    "print(df.describe())"
   ]
  },
  {
   "cell_type": "code",
   "execution_count": 36,
   "metadata": {},
   "outputs": [],
   "source": [
    "numerical_cols = ['Height (cm)', 'Weight (kg)', 'Age (years)', 'Shoe Size (EU)']\n",
    "z_scores = df[numerical_cols].apply(zscore)"
   ]
  },
  {
   "cell_type": "code",
   "execution_count": 37,
   "metadata": {},
   "outputs": [],
   "source": [
    "z_scores.columns = [f'{col} Z-Score' for col in numerical_cols]\n",
    "df_z_scores = pd.concat([df, z_scores], axis=1)"
   ]
  },
  {
   "cell_type": "code",
   "execution_count": 38,
   "metadata": {},
   "outputs": [
    {
     "name": "stdout",
     "output_type": "stream",
     "text": [
      "\n",
      "Data with Z-Scores:\n",
      "   Athlete  Height (cm)  Weight (kg)  Age (years)  Shoe Size (EU)  \\\n",
      "0    Alice          165           55           25              37   \n",
      "1      Bob          180           75           30              42   \n",
      "2  Charlie          175           70           27              40   \n",
      "3    David          190           85           35              45   \n",
      "4      Eve          160           50           22              36   \n",
      "5    Frank          185           90           40              44   \n",
      "6    Grace          170           65           28              39   \n",
      "7    Helen          155           48           24              35   \n",
      "8      Ian          195           95           38              46   \n",
      "9     Jane          168           58           26              38   \n",
      "\n",
      "   Height (cm) Z-Score  Weight (kg) Z-Score  Age (years) Z-Score  \\\n",
      "0            -0.748420            -0.883861            -0.771177   \n",
      "1             0.458709             0.369842             0.085686   \n",
      "2             0.056333             0.056417            -0.428432   \n",
      "3             1.263461             0.996694             0.942549   \n",
      "4            -1.150796            -1.197286            -1.285295   \n",
      "5             0.861085             1.310120             1.799413   \n",
      "6            -0.346044            -0.257009            -0.257059   \n",
      "7            -1.553172            -1.322657            -0.942549   \n",
      "8             1.665837             1.623545             1.456667   \n",
      "9            -0.506994            -0.695805            -0.599804   \n",
      "\n",
      "   Shoe Size (EU) Z-Score  \n",
      "0               -0.869001  \n",
      "1                0.488813  \n",
      "2               -0.054313  \n",
      "3                1.303501  \n",
      "4               -1.140563  \n",
      "5                1.031938  \n",
      "6               -0.325875  \n",
      "7               -1.412126  \n",
      "8                1.575064  \n",
      "9               -0.597438  \n"
     ]
    }
   ],
   "source": [
    "print(\"\\nData with Z-Scores:\")\n",
    "print(df_z_scores)"
   ]
  },
  {
   "cell_type": "code",
   "execution_count": 39,
   "metadata": {},
   "outputs": [
    {
     "data": {
      "image/png": "[encoded data removed]",
      "text/plain": [
       "<Figure size 1200x800 with 1 Axes>"
      ]
     },
     "metadata": {},
     "output_type": "display_data"
    }
   ],
   "source": [
    "plt.figure(figsize=(12, 8))\n",
    "df[numerical_cols].boxplot()\n",
    "plt.title(\"Box Plot for Numerical Features\")\n",
    "plt.ylabel(\"Value\")\n",
    "plt.xlabel(\"Features\")\n",
    "plt.xticks(rotation=45)\n",
    "plt.show()"
   ]
  }
 ],
 "metadata": {
  "kernelspec": {
   "display_name": "Python 3",
   "language": "python",
   "name": "python3"
  },
  "language_info": {
   "codemirror_mode": {
    "name": "ipython",
    "version": 3
   },
   "file_extension": ".py",
   "mimetype": "text/x-python",
   "name": "python",
   "nbconvert_exporter": "python",
   "pygments_lexer": "ipython3",
   "version": "3.11.11"
  }
 },
 "nbformat": 4,
 "nbformat_minor": 2
}
