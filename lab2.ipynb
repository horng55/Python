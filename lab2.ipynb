{
 "cells": [
  {
   "cell_type": "markdown",
   "metadata": {},
   "source": [
    "## Name: Name kimhorng\n",
    "## Class: ITE M1"
   ]
  },
  {
   "cell_type": "code",
   "execution_count": 4,
   "metadata": {},
   "outputs": [],
   "source": [
    "import pandas as pd\n",
    "import matplotlib.pyplot as plt"
   ]
  },
  {
   "cell_type": "code",
   "execution_count": 5,
   "metadata": {},
   "outputs": [],
   "source": [
    "data = {\n",
    "    'Employees': ['Alice', 'Bob', 'Charlie', 'David', 'Eve', 'Frank', 'Grace'],\n",
    "    'Salary': [45000, 55000, 60000, 85000, 95000, 30000, 70000]\n",
    "}\n"
   ]
  },
  {
   "cell_type": "code",
   "execution_count": 6,
   "metadata": {},
   "outputs": [],
   "source": [
    "df = pd.DataFrame(data)"
   ]
  },
  {
   "cell_type": "code",
   "execution_count": 7,
   "metadata": {},
   "outputs": [
    {
     "name": "stdout",
     "output_type": "stream",
     "text": [
      "Dataset: \n",
      "  Employees  Salary\n",
      "0     Alice   45000\n",
      "1       Bob   55000\n",
      "2   Charlie   60000\n",
      "3     David   85000\n",
      "4       Eve   95000\n",
      "5     Frank   30000\n",
      "6     Grace   70000\n"
     ]
    }
   ],
   "source": [
    "print(\"Dataset: \")\n",
    "print(df)"
   ]
  },
  {
   "cell_type": "code",
   "execution_count": 8,
   "metadata": {},
   "outputs": [
    {
     "data": {
      "text/html": [
       "<div>\n",
       "<style scoped>\n",
       "    .dataframe tbody tr th:only-of-type {\n",
       "        vertical-align: middle;\n",
       "    }\n",
       "\n",
       "    .dataframe tbody tr th {\n",
       "        vertical-align: top;\n",
       "    }\n",
       "\n",
       "    .dataframe thead th {\n",
       "        text-align: right;\n",
       "    }\n",
       "</style>\n",
       "<table border=\"1\" class=\"dataframe\">\n",
       "  <thead>\n",
       "    <tr style=\"text-align: right;\">\n",
       "      <th></th>\n",
       "      <th>Employees</th>\n",
       "      <th>Salary</th>\n",
       "    </tr>\n",
       "  </thead>\n",
       "  <tbody>\n",
       "    <tr>\n",
       "      <th>0</th>\n",
       "      <td>Alice</td>\n",
       "      <td>45000</td>\n",
       "    </tr>\n",
       "    <tr>\n",
       "      <th>1</th>\n",
       "      <td>Bob</td>\n",
       "      <td>55000</td>\n",
       "    </tr>\n",
       "    <tr>\n",
       "      <th>2</th>\n",
       "      <td>Charlie</td>\n",
       "      <td>60000</td>\n",
       "    </tr>\n",
       "    <tr>\n",
       "      <th>3</th>\n",
       "      <td>David</td>\n",
       "      <td>85000</td>\n",
       "    </tr>\n",
       "    <tr>\n",
       "      <th>4</th>\n",
       "      <td>Eve</td>\n",
       "      <td>95000</td>\n",
       "    </tr>\n",
       "  </tbody>\n",
       "</table>\n",
       "</div>"
      ],
      "text/plain": [
       "  Employees  Salary\n",
       "0     Alice   45000\n",
       "1       Bob   55000\n",
       "2   Charlie   60000\n",
       "3     David   85000\n",
       "4       Eve   95000"
      ]
     },
     "execution_count": 8,
     "metadata": {},
     "output_type": "execute_result"
    }
   ],
   "source": [
    "df.head()"
   ]
  },
  {
   "cell_type": "code",
   "execution_count": 9,
   "metadata": {},
   "outputs": [
    {
     "name": "stdout",
     "output_type": "stream",
     "text": [
      "<class 'pandas.core.frame.DataFrame'>\n",
      "RangeIndex: 7 entries, 0 to 6\n",
      "Data columns (total 2 columns):\n",
      " #   Column     Non-Null Count  Dtype \n",
      "---  ------     --------------  ----- \n",
      " 0   Employees  7 non-null      object\n",
      " 1   Salary     7 non-null      int64 \n",
      "dtypes: int64(1), object(1)\n",
      "memory usage: 240.0+ bytes\n"
     ]
    }
   ],
   "source": [
    "df.info()"
   ]
  },
  {
   "cell_type": "code",
   "execution_count": 10,
   "metadata": {},
   "outputs": [
    {
     "data": {
      "text/plain": [
       "5    30000\n",
       "0    45000\n",
       "1    55000\n",
       "2    60000\n",
       "6    70000\n",
       "3    85000\n",
       "4    95000\n",
       "Name: Salary, dtype: int64"
      ]
     },
     "execution_count": 10,
     "metadata": {},
     "output_type": "execute_result"
    }
   ],
   "source": [
    "df['Salary'].sort_values()"
   ]
  },
  {
   "cell_type": "code",
   "execution_count": null,
   "metadata": {},
   "outputs": [],
   "source": []
  },
  {
   "cell_type": "code",
   "execution_count": 11,
   "metadata": {},
   "outputs": [],
   "source": [
    "# Calculated measures\n",
    "import pandas as pd\n",
    "\n",
    "# Assuming `data` is a dictionary or similar structure containing 'Salary'\n",
    "df = pd.DataFrame(data)\n",
    "\n",
    "count = df['Salary'].count()  # Count of values\n",
    "mean = df['Salary'].mean()  # Mean value\n",
    "std_dev = df['Salary'].std()  # Standard deviation (fix: add parentheses to call the method)\n",
    "median = df['Salary'].median()  # Median value\n",
    "q1 = df['Salary'].quantile(0.25)  # First quartile (25th percentile)\n",
    "q2 = df['Salary'].quantile(0.5)  # Second quartile (50th percentile, also the median)\n",
    "q3 = df['Salary'].quantile(0.75)  # Third quartile (75th percentile)\n",
    "iqr = q3 - q1  # Interquartile range\n"
   ]
  },
  {
   "cell_type": "code",
   "execution_count": 12,
   "metadata": {},
   "outputs": [],
   "source": [
    "#define mild and extreme outlier thresholds\n",
    "mild_lower = q1 - 1.5 * iqr\n",
    "mild_upper = q3 + 1.5 * iqr\n",
    "extreme_lower = q1 -3 * iqr\n",
    "extreme_upper = q3 + 3 * iqr"
   ]
  },
  {
   "cell_type": "code",
   "execution_count": 13,
   "metadata": {},
   "outputs": [
    {
     "name": "stdout",
     "output_type": "stream",
     "text": [
      "\n",
      "Outlier Thresholds:\n",
      "Mild Outliers: <8750.00 or >118750.00\n",
      "Extreme Outliers: <-32500.00 or >160000.00\n"
     ]
    }
   ],
   "source": [
    "print(\"\\nOutlier Thresholds:\")\n",
    "print(f\"Mild Outliers: <{mild_lower:.2f} or >{mild_upper:.2f}\")\n",
    "print(f\"Extreme Outliers: <{extreme_lower:.2f} or >{extreme_upper:.2f}\")\n"
   ]
  },
  {
   "cell_type": "code",
   "execution_count": 14,
   "metadata": {},
   "outputs": [],
   "source": [
    "#Indentify lild and extreme outliers\n",
    "mild_outliers = df[(df['Salary'] < mild_lower) | (df['Salary'] >mild_upper)]\n",
    "extreme_outliers = df[(df['Salary'] < extreme_lower) | (df['Salary'] > extreme_upper)]"
   ]
  },
  {
   "cell_type": "code",
   "execution_count": 15,
   "metadata": {},
   "outputs": [
    {
     "name": "stdout",
     "output_type": "stream",
     "text": [
      "Mild Outliers:\n",
      "Empty DataFrame\n",
      "Columns: [Employees, Salary]\n",
      "Index: []\n",
      "\n",
      " Extreme Outliers:\n",
      "Empty DataFrame\n",
      "Columns: [Employees, Salary]\n",
      "Index: []\n"
     ]
    }
   ],
   "source": [
    "print(\"Mild Outliers:\")\n",
    "print(mild_outliers)\n",
    "print(\"\\n Extreme Outliers:\")\n",
    "print(extreme_outliers)"
   ]
  },
  {
   "cell_type": "code",
   "execution_count": 18,
   "metadata": {},
   "outputs": [
    {
     "data": {
      "image/png": "[encoded data removed]",
      "text/plain": [
       "<Figure size 800x600 with 1 Axes>"
      ]
     },
     "metadata": {},
     "output_type": "display_data"
    }
   ],
   "source": [
    "import matplotlib.pyplot as plt\n",
    "import pandas as pd\n",
    "\n",
    "# Sample data as a DataFrame\n",
    "data = {\n",
    "    'Employees': ['Alice', 'Bob', 'Charlie', 'David', 'Eve', 'Frank', 'Grace'],\n",
    "    'Salary': [45000, 55000, 60000, 85000, 95000, 30000, 70000]\n",
    "}\n",
    "df = pd.DataFrame(data)\n",
    "\n",
    "# Plot the boxplot\n",
    "plt.figure(figsize=(8, 6))\n",
    "plt.boxplot(df['Salary'], vert=False, flierprops={'marker': 'o', 'color': 'black'})\n",
    "plt.title(\"Salary Distribution\")\n",
    "plt.xlabel(\"Salary (USD)\")\n",
    "plt.show()\n"
   ]
  }
 ],
 "metadata": {
  "kernelspec": {
   "display_name": "Python 3",
   "language": "python",
   "name": "python3"
  },
  "language_info": {
   "codemirror_mode": {
    "name": "ipython",
    "version": 3
   },
   "file_extension": ".py",
   "mimetype": "text/x-python",
   "name": "python",
   "nbconvert_exporter": "python",
   "pygments_lexer": "ipython3",
   "version": "3.10.14"
  }
 },
 "nbformat": 4,
 "nbformat_minor": 2
}
